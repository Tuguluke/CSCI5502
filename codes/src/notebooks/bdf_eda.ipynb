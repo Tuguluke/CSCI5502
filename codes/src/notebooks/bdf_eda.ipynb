{
 "cells": [
  {
   "cell_type": "code",
   "execution_count": 1,
   "id": "81cad7d3",
   "metadata": {},
   "outputs": [],
   "source": [
    "from io import BytesIO\n",
    "import zipfile\n",
    "\n",
    "import ipywidgets\n",
    "import pandas as pd\n",
    "import requests\n",
    "\n",
    "import matplotlib.pyplot as plt\n",
    "import seaborn as sns\n",
    "\n",
    "sns.set()"
   ]
  },
  {
   "cell_type": "code",
   "execution_count": 2,
   "id": "0855c535",
   "metadata": {},
   "outputs": [],
   "source": [
    "def load_data(year):\n",
    "    url = 'https://www.bls.gov/oes/special.requests/oesm{}nat.zip'.format(year % 100)\n",
    "    resp = requests.get(url)\n",
    "    zf = zipfile.ZipFile(BytesIO(resp.content))\n",
    "    for fi in zf.filelist:\n",
    "        if fi.filename.rstrip('x').endswith('_dl.xls'):\n",
    "            f = zf.read(fi)\n",
    "            df = pd.read_excel(f)\n",
    "            df.columns = df.columns.str.lower()\n",
    "            df['year'] = year\n",
    "            return df\n",
    "    raise RuntimeError('Could not find correct Excel file within Zip archive.')"
   ]
  },
  {
   "cell_type": "code",
   "execution_count": 3,
   "id": "746e89a4",
   "metadata": {},
   "outputs": [],
   "source": [
    "def load_years(years):\n",
    "    frames = []\n",
    "    for year in years:\n",
    "        df = load_data(year)\n",
    "        frames.append(df)\n",
    "    return frames"
   ]
  },
  {
   "cell_type": "code",
   "execution_count": 31,
   "id": "c95f5296",
   "metadata": {},
   "outputs": [
    {
     "data": {
      "text/plain": [
       "1"
      ]
     },
     "execution_count": 31,
     "metadata": {},
     "output_type": "execute_result"
    }
   ],
   "source": [
    "df_all.area_type.nunique()"
   ]
  },
  {
   "cell_type": "code",
   "execution_count": 25,
   "id": "bfff45e1",
   "metadata": {},
   "outputs": [
    {
     "name": "stdout",
     "output_type": "stream",
     "text": [
      "<class 'pandas.core.frame.DataFrame'>\n",
      "Int64Index: 13208 entries, 0 to 1328\n",
      "Data columns (total 35 columns):\n",
      " #   Column        Non-Null Count  Dtype  \n",
      "---  ------        --------------  -----  \n",
      " 0   occ_code      13208 non-null  object \n",
      " 1   occ_title     13208 non-null  object \n",
      " 2   group         23 non-null     object \n",
      " 3   tot_emp       13208 non-null  object \n",
      " 4   emp_prse      13208 non-null  object \n",
      " 5   h_mean        13208 non-null  object \n",
      " 6   a_mean        13208 non-null  object \n",
      " 7   mean_prse     13208 non-null  float64\n",
      " 8   h_pct10       13208 non-null  object \n",
      " 9   h_pct25       13208 non-null  object \n",
      " 10  h_median      13208 non-null  object \n",
      " 11  h_pct75       13208 non-null  object \n",
      " 12  h_pct90       13208 non-null  object \n",
      " 13  a_pct10       13208 non-null  object \n",
      " 14  a_pct25       13208 non-null  object \n",
      " 15  a_median      13208 non-null  object \n",
      " 16  a_pct75       13208 non-null  object \n",
      " 17  a_pct90       13208 non-null  object \n",
      " 18  annual        795 non-null    object \n",
      " 19  hourly        58 non-null     object \n",
      " 20  year          13208 non-null  int64  \n",
      " 21  occ_group     9731 non-null   object \n",
      " 22  area          2658 non-null   float64\n",
      " 23  area_title    2658 non-null   object \n",
      " 24  area_type     2658 non-null   float64\n",
      " 25  naics         2658 non-null   float64\n",
      " 26  naics_title   2658 non-null   object \n",
      " 27  i_group       2658 non-null   object \n",
      " 28  own_code      2658 non-null   float64\n",
      " 29  o_group       2658 non-null   object \n",
      " 30  jobs_1000     0 non-null      float64\n",
      " 31  loc_quotient  0 non-null      float64\n",
      " 32  pct_total     0 non-null      float64\n",
      " 33  prim_state    1329 non-null   object \n",
      " 34  mean salary   13150 non-null  float64\n",
      "dtypes: float64(9), int64(1), object(25)\n",
      "memory usage: 3.6+ MB\n"
     ]
    }
   ],
   "source": [
    "df_all.info()"
   ]
  },
  {
   "cell_type": "code",
   "execution_count": 4,
   "id": "3700cf16",
   "metadata": {
    "scrolled": false
   },
   "outputs": [
    {
     "name": "stdout",
     "output_type": "stream",
     "text": [
      "\\begin{tabular}{llllrrllrllllllllllllrlrlrrllrlrrrl}\n",
      "\\toprule\n",
      "{} & occ\\_code &               occ\\_title &  group &  tot\\_emp &  emp\\_prse & h\\_mean & a\\_mean &     mean\\_prse & h\\_pct10 & h\\_pct25 & h\\_median & h\\_pct75 & h\\_pct90 & a\\_pct10 & a\\_pct25 & a\\_median & a\\_pct75 & a\\_pct90 & annual & hourly &          year & occ\\_group &    area & area\\_title &  area\\_type &   naics &     naics\\_title &         i\\_group &  own\\_code &   o\\_group &  jobs\\_1000 &  loc\\_quotient &  pct\\_total & prim\\_state \\\\\n",
      "\\midrule\n",
      "count  &    13208 &                   13208 &     23 &  13208.0 &   13208.0 &  13208 &  13208 &  13208.000000 &   13208 &   13208 &    13208 &   13208 &   13208 &   13208 &   13208 &    13208 &   13208 &   13208 &    795 &     58 &  13208.000000 &      9731 &  2658.0 &       2658 &     2658.0 &  2658.0 &            2658 &            2658 &    2658.0 &      2658 &        0.0 &           0.0 &        0.0 &       1329 \\\\\n",
      "unique &     1507 &                    1272 &      2 &   8454.0 &     226.0 &   3806 &   5951 &           NaN &    2224 &    2858 &     3523 &    4241 &    4626 &    3707 &    4729 &     5615 &    6447 &    6756 &      1 &      1 &           NaN &         5 &     NaN &          1 &        NaN &     NaN &               1 &               1 &       NaN &         5 &        NaN &           NaN &        NaN &          1 \\\\\n",
      "top    &  39-7010 &  Tour and Travel Guides &  major &   6940.0 &       0.5 &      * &      * &           NaN &       * &       * &        * &       * &       * &       * &       * &        \\# &       \\# &       \\# &   True &   True &           NaN &  detailed &     NaN &       U.S. &        NaN &     NaN &  Cross-industry &  cross-industry &       NaN &  detailed &        NaN &           NaN &        NaN &         US \\\\\n",
      "freq   &       13 &                      22 &     22 &      9.0 &     480.0 &    795 &     58 &           NaN &     795 &     795 &      795 &     795 &     795 &      58 &      58 &       75 &     172 &     571 &    795 &     58 &           NaN &      5717 &     NaN &       2658 &        NaN &     NaN &            2658 &            2658 &       NaN &      1578 &        NaN &           NaN &        NaN &       1329 \\\\\n",
      "mean   &      NaN &                     NaN &    NaN &      NaN &       NaN &    NaN &    NaN &      1.125901 &     NaN &     NaN &      NaN &     NaN &     NaN &     NaN &     NaN &      NaN &     NaN &     NaN &    NaN &    NaN &   2015.652332 &       NaN &    99.0 &        NaN &        1.0 &     0.0 &             NaN &             NaN &    1235.0 &       NaN &        NaN &           NaN &        NaN &        NaN \\\\\n",
      "std    &      NaN &                     NaN &    NaN &      NaN &       NaN &    NaN &    NaN &      1.118357 &     NaN &     NaN &      NaN &     NaN &     NaN &     NaN &     NaN &      NaN &     NaN &     NaN &    NaN &    NaN &      2.762959 &       NaN &     0.0 &        NaN &        0.0 &     0.0 &             NaN &             NaN &       0.0 &       NaN &        NaN &           NaN &        NaN &        NaN \\\\\n",
      "min    &      NaN &                     NaN &    NaN &      NaN &       NaN &    NaN &    NaN &      0.100000 &     NaN &     NaN &      NaN &     NaN &     NaN &     NaN &     NaN &      NaN &     NaN &     NaN &    NaN &    NaN &   2011.000000 &       NaN &    99.0 &        NaN &        1.0 &     0.0 &             NaN &             NaN &    1235.0 &       NaN &        NaN &           NaN &        NaN &        NaN \\\\\n",
      "25\\%    &      NaN &                     NaN &    NaN &      NaN &       NaN &    NaN &    NaN &      0.500000 &     NaN &     NaN &      NaN &     NaN &     NaN &     NaN &     NaN &      NaN &     NaN &     NaN &    NaN &    NaN &   2013.000000 &       NaN &    99.0 &        NaN &        1.0 &     0.0 &             NaN &             NaN &    1235.0 &       NaN &        NaN &           NaN &        NaN &        NaN \\\\\n",
      "50\\%    &      NaN &                     NaN &    NaN &      NaN &       NaN &    NaN &    NaN &      0.800000 &     NaN &     NaN &      NaN &     NaN &     NaN &     NaN &     NaN &      NaN &     NaN &     NaN &    NaN &    NaN &   2016.000000 &       NaN &    99.0 &        NaN &        1.0 &     0.0 &             NaN &             NaN &    1235.0 &       NaN &        NaN &           NaN &        NaN &        NaN \\\\\n",
      "75\\%    &      NaN &                     NaN &    NaN &      NaN &       NaN &    NaN &    NaN &      1.400000 &     NaN &     NaN &      NaN &     NaN &     NaN &     NaN &     NaN &      NaN &     NaN &     NaN &    NaN &    NaN &   2018.000000 &       NaN &    99.0 &        NaN &        1.0 &     0.0 &             NaN &             NaN &    1235.0 &       NaN &        NaN &           NaN &        NaN &        NaN \\\\\n",
      "max    &      NaN &                     NaN &    NaN &      NaN &       NaN &    NaN &    NaN &     25.200000 &     NaN &     NaN &      NaN &     NaN &     NaN &     NaN &     NaN &      NaN &     NaN &     NaN &    NaN &    NaN &   2020.000000 &       NaN &    99.0 &        NaN &        1.0 &     0.0 &             NaN &             NaN &    1235.0 &       NaN &        NaN &           NaN &        NaN &        NaN \\\\\n",
      "\\bottomrule\n",
      "\\end{tabular}\n",
      "\n"
     ]
    }
   ],
   "source": [
    "df_all = pd.concat(load_years(range(2011, 2021)))\n",
    "print(df_all.describe(include='all').to_latex())"
   ]
  },
  {
   "cell_type": "code",
   "execution_count": 5,
   "id": "6c4f69c4",
   "metadata": {
    "scrolled": true
   },
   "outputs": [],
   "source": [
    "# for i in df_all.occ_title:\n",
    "#     print(i)"
   ]
  },
  {
   "cell_type": "code",
   "execution_count": 6,
   "id": "566060a3",
   "metadata": {},
   "outputs": [
    {
     "data": {
      "text/plain": [
       "Tour and Travel Guides                                              22\n",
       "Carpenters                                                          19\n",
       "Septic Tank Servicers and Sewer Pipe Cleaners                       19\n",
       "Rock Splitters, Quarry                                              19\n",
       "Podiatrists                                                         19\n",
       "                                                                    ..\n",
       "Protective Service Workers, All Other *                              1\n",
       "Business Operations Specialists, All Other*                          1\n",
       "Funeral Service Managers, Directors, Morticians, and Undertakers     1\n",
       "Community and Social Service Specialists, All Other*                 1\n",
       "Paralegals and Legal Assistants*                                     1\n",
       "Name: occ_title, Length: 1272, dtype: int64"
      ]
     },
     "execution_count": 6,
     "metadata": {},
     "output_type": "execute_result"
    }
   ],
   "source": [
    "df_all.occ_title.value_counts()"
   ]
  },
  {
   "cell_type": "code",
   "execution_count": 7,
   "id": "748aeb88",
   "metadata": {},
   "outputs": [],
   "source": [
    "df_all['mean salary'] = pd.to_numeric(df_all['a_mean'], errors='coerce')"
   ]
  },
  {
   "cell_type": "code",
   "execution_count": 35,
   "id": "4d0b6f38",
   "metadata": {},
   "outputs": [
    {
     "data": {
      "text/plain": [
       "array(['00-0000', '11-0000', '11-1011', ..., '53-4022', '53-6098',\n",
       "       '53-7065'], dtype=object)"
      ]
     },
     "execution_count": 35,
     "metadata": {},
     "output_type": "execute_result"
    }
   ],
   "source": [
    "# major_groups = df_all['occ_code'].str.endswith('0000') # endswith 0000 is the mother node? \n",
    "major_groups = df_all['occ_code']\n",
    "df_all['occ_code'].unique()\n"
   ]
  },
  {
   "cell_type": "code",
   "execution_count": 34,
   "id": "bdc4b162",
   "metadata": {},
   "outputs": [
    {
     "data": {
      "text/plain": [
       "array(['00-0000', '11-0000', '11-1011', ..., '53-4022', '53-6098',\n",
       "       '53-7065'], dtype=object)"
      ]
     },
     "execution_count": 34,
     "metadata": {},
     "output_type": "execute_result"
    }
   ],
   "source": [
    "df_all['occ_code'].unique()"
   ]
  },
  {
   "cell_type": "code",
   "execution_count": 9,
   "id": "c6b7b7b8",
   "metadata": {
    "scrolled": false
   },
   "outputs": [],
   "source": [
    "# sns.lineplot(data=df_all[major_groups], x='year', y='mean salary', hue='occ_title')\n",
    "# plt.legend(bbox_to_anchor=(1.05, 1), loc=2)"
   ]
  },
  {
   "cell_type": "code",
   "execution_count": 21,
   "id": "50b0aa1e",
   "metadata": {},
   "outputs": [],
   "source": [
    "# titles = sorted(list(df_all[major_groups]['occ_title'].unique()))\n",
    "titles = sorted(list(df_all['occ_title'].unique()))\n"
   ]
  },
  {
   "cell_type": "code",
   "execution_count": 22,
   "id": "b077a17a",
   "metadata": {},
   "outputs": [
    {
     "data": {
      "application/vnd.jupyter.widget-view+json": {
       "model_id": "7389b5de2300445fb659fc473913cbad",
       "version_major": 2,
       "version_minor": 0
      },
      "text/plain": [
       "interactive(children=(Dropdown(description='title', options=('Accountants and Auditors', 'Actors', 'Actors, Pr…"
      ]
     },
     "metadata": {},
     "output_type": "display_data"
    }
   ],
   "source": [
    "@ipywidgets.interact(title=titles)\n",
    "def plot_group(title=titles[0]):\n",
    "    ind = titles.index(title)\n",
    "    for t in titles[:ind] + titles[ind+1:] + [title]:\n",
    "        color = ('r' if t == title else '0.7')\n",
    "        df = df_all[df_all['occ_title'] == t]\n",
    "        plt.plot(df['year'], df['mean salary'], c=color)\n",
    "    plt.xlabel('year')\n",
    "    plt.ylabel('mean salary')"
   ]
  },
  {
   "cell_type": "code",
   "execution_count": null,
   "id": "b0297f9e",
   "metadata": {},
   "outputs": [],
   "source": []
  },
  {
   "cell_type": "code",
   "execution_count": null,
   "id": "2fbdf281",
   "metadata": {},
   "outputs": [],
   "source": []
  },
  {
   "cell_type": "code",
   "execution_count": null,
   "id": "fdfa91fd",
   "metadata": {},
   "outputs": [],
   "source": []
  },
  {
   "cell_type": "markdown",
   "id": "75fe9b2c",
   "metadata": {},
   "source": [
    "# TBD"
   ]
  },
  {
   "cell_type": "code",
   "execution_count": 12,
   "id": "b966e304",
   "metadata": {},
   "outputs": [],
   "source": [
    "# import requests\n",
    "# import json\n",
    "# import prettytable\n",
    "# headers = {'Content-type': 'application/json'}\n",
    "# data = json.dumps({\"seriesid\": ['WMU00000001020000001730272400'],\"startyear\":\"2020\", \"endyear\":\"2020\"})\n",
    "# p = requests.post('https://api.bls.gov/publicAPI/v2/timeseries/data/', data=data, headers=headers)\n",
    "# json_data = json.loads(p.text)\n",
    "# # for series in json_data['Results']['series']:\n",
    "# #     x=prettytable.PrettyTable([\"series id\",\"year\",\"period\",\"value\",\"footnotes\"])\n",
    "# #     seriesId = series['seriesID']\n",
    "# #     for item in series['data']:\n",
    "# #         year = item['year']\n",
    "# #         period = item['period']\n",
    "# #         value = item['value']\n",
    "# #         footnotes=\"\"\n",
    "# #         for footnote in item['footnotes']:\n",
    "# #             if footnote:\n",
    "# #                 footnotes = footnotes + footnote['text'] + ','\n",
    "# #         if 'M01' <= period <= 'M12':\n",
    "# #             x.add_row([seriesId,year,period,value,footnotes[0:-1]])\n",
    "# #     output = open(seriesId + '.txt','w')\n",
    "# #     output.write (x.get_string())\n",
    "# #     output.close()"
   ]
  },
  {
   "cell_type": "code",
   "execution_count": null,
   "id": "73600879",
   "metadata": {},
   "outputs": [],
   "source": []
  }
 ],
 "metadata": {
  "kernelspec": {
   "display_name": "Python 3",
   "language": "python",
   "name": "python3"
  },
  "language_info": {
   "codemirror_mode": {
    "name": "ipython",
    "version": 3
   },
   "file_extension": ".py",
   "mimetype": "text/x-python",
   "name": "python",
   "nbconvert_exporter": "python",
   "pygments_lexer": "ipython3",
   "version": "3.8.10"
  }
 },
 "nbformat": 4,
 "nbformat_minor": 5
}
