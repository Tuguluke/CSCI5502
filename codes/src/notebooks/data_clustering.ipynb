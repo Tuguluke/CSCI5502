{
 "cells": [
  {
   "cell_type": "code",
   "execution_count": 3,
   "id": "5785f89b",
   "metadata": {},
   "outputs": [],
   "source": [
    "import pandas as pd\n",
    "from sklearn.feature_extraction import text\n",
    "\n",
    "from sklearn.feature_extraction.text import TfidfVectorizer\n",
    "\n",
    "from sklearn.cluster import KMeans"
   ]
  },
  {
   "cell_type": "code",
   "execution_count": 12,
   "id": "c038c7a0",
   "metadata": {},
   "outputs": [],
   "source": [
    "# data = [{'User': 'Johnny', 'KeyWords': 'Dog Cat Bear'},\n",
    "#     {'User': 'Mark', 'KeyWords': 'Cat Apple Peach'},\n",
    "#     {'User': 'Lisa', 'KeyWords': 'Apple Peach Orange'}]\n",
    "\n",
    "# df = pd.DataFrame(data)\n",
    "\n",
    "# Optimal_k = 2\n",
    "\n",
    "# WordVectorizer = TfidfVectorizer(stop_words='english')\n",
    "\n",
    "# X = WordVectorizer.fit_transform(df['KeyWords'])\n",
    "\n",
    "# model = KMeans(n_clusters=Optimal_k, init='k-means++', max_iter=200, n_init=10)\n",
    "\n",
    "# model.fit(X)\n",
    "\n",
    "# df['Cluster'] = pd.DataFrame(model.labels_)\n",
    "\n",
    "# df"
   ]
  },
  {
   "cell_type": "code",
   "execution_count": 7,
   "id": "8567e167",
   "metadata": {},
   "outputs": [],
   "source": [
    "h1b = pd.read_pickle(\"../data/h1b_clean.pkl\")\n",
    "h1b_co = h1b[h1b['state'] == 'CO']"
   ]
  },
  {
   "cell_type": "code",
   "execution_count": 13,
   "id": "25700019",
   "metadata": {},
   "outputs": [],
   "source": [
    "data = h1b_co[['relatedSkills','Dice_job_title']]"
   ]
  },
  {
   "cell_type": "code",
   "execution_count": 24,
   "id": "3f5c63a9",
   "metadata": {},
   "outputs": [
    {
     "name": "stderr",
     "output_type": "stream",
     "text": [
      "/Library/Frameworks/Python.framework/Versions/3.8/lib/python3.8/site-packages/pandas/core/frame.py:3599: SettingWithCopyWarning: \n",
      "A value is trying to be set on a copy of a slice from a DataFrame.\n",
      "Try using .loc[row_indexer,col_indexer] = value instead\n",
      "\n",
      "See the caveats in the documentation: https://pandas.pydata.org/pandas-docs/stable/user_guide/indexing.html#returning-a-view-versus-a-copy\n",
      "  self._set_item_frame_value(key, value)\n"
     ]
    },
    {
     "data": {
      "text/html": [
       "<div>\n",
       "<style scoped>\n",
       "    .dataframe tbody tr th:only-of-type {\n",
       "        vertical-align: middle;\n",
       "    }\n",
       "\n",
       "    .dataframe tbody tr th {\n",
       "        vertical-align: top;\n",
       "    }\n",
       "\n",
       "    .dataframe thead th {\n",
       "        text-align: right;\n",
       "    }\n",
       "</style>\n",
       "<table border=\"1\" class=\"dataframe\">\n",
       "  <thead>\n",
       "    <tr style=\"text-align: right;\">\n",
       "      <th></th>\n",
       "      <th>relatedSkills</th>\n",
       "      <th>Dice_job_title</th>\n",
       "      <th>Cluster</th>\n",
       "    </tr>\n",
       "  </thead>\n",
       "  <tbody>\n",
       "    <tr>\n",
       "      <th>220</th>\n",
       "      <td>Microsoft technologies;Software development;C#...</td>\n",
       "      <td>.Net Application Developer</td>\n",
       "      <td>0.0</td>\n",
       "    </tr>\n",
       "    <tr>\n",
       "      <th>962</th>\n",
       "      <td>Software development;C#;ASP.NET;.NET;Microsoft...</td>\n",
       "      <td>.Net Developer</td>\n",
       "      <td>0.0</td>\n",
       "    </tr>\n",
       "    <tr>\n",
       "      <th>998</th>\n",
       "      <td>Software development;C#;ASP.NET;.NET;Microsoft...</td>\n",
       "      <td>.Net Developer</td>\n",
       "      <td>0.0</td>\n",
       "    </tr>\n",
       "    <tr>\n",
       "      <th>1121</th>\n",
       "      <td>Software development;C#;ASP.NET;.NET;Microsoft...</td>\n",
       "      <td>.Net Developer</td>\n",
       "      <td>0.0</td>\n",
       "    </tr>\n",
       "    <tr>\n",
       "      <th>1378</th>\n",
       "      <td>Software development;C#;ASP.NET;.NET;Microsoft...</td>\n",
       "      <td>.Net Developer</td>\n",
       "      <td>0.0</td>\n",
       "    </tr>\n",
       "    <tr>\n",
       "      <th>...</th>\n",
       "      <td>...</td>\n",
       "      <td>...</td>\n",
       "      <td>...</td>\n",
       "    </tr>\n",
       "    <tr>\n",
       "      <th>2494446</th>\n",
       "      <td>Web services;JDBC;Java;Quality assurance;webMe...</td>\n",
       "      <td>webMethods Developer</td>\n",
       "      <td>NaN</td>\n",
       "    </tr>\n",
       "    <tr>\n",
       "      <th>2494448</th>\n",
       "      <td>Web services;JDBC;Java;Quality assurance;webMe...</td>\n",
       "      <td>webMethods Developer</td>\n",
       "      <td>NaN</td>\n",
       "    </tr>\n",
       "    <tr>\n",
       "      <th>2494449</th>\n",
       "      <td>Web services;JDBC;Java;Quality assurance;webMe...</td>\n",
       "      <td>webMethods Developer</td>\n",
       "      <td>NaN</td>\n",
       "    </tr>\n",
       "    <tr>\n",
       "      <th>2494680</th>\n",
       "      <td>Web services;JDBC;Java;Quality assurance;webMe...</td>\n",
       "      <td>webMethods Developer</td>\n",
       "      <td>NaN</td>\n",
       "    </tr>\n",
       "    <tr>\n",
       "      <th>2494880</th>\n",
       "      <td>Web services;JDBC;Java;Quality assurance;webMe...</td>\n",
       "      <td>webMethods Developer</td>\n",
       "      <td>NaN</td>\n",
       "    </tr>\n",
       "  </tbody>\n",
       "</table>\n",
       "<p>6199 rows × 3 columns</p>\n",
       "</div>"
      ],
      "text/plain": [
       "                                             relatedSkills  \\\n",
       "220      Microsoft technologies;Software development;C#...   \n",
       "962      Software development;C#;ASP.NET;.NET;Microsoft...   \n",
       "998      Software development;C#;ASP.NET;.NET;Microsoft...   \n",
       "1121     Software development;C#;ASP.NET;.NET;Microsoft...   \n",
       "1378     Software development;C#;ASP.NET;.NET;Microsoft...   \n",
       "...                                                    ...   \n",
       "2494446  Web services;JDBC;Java;Quality assurance;webMe...   \n",
       "2494448  Web services;JDBC;Java;Quality assurance;webMe...   \n",
       "2494449  Web services;JDBC;Java;Quality assurance;webMe...   \n",
       "2494680  Web services;JDBC;Java;Quality assurance;webMe...   \n",
       "2494880  Web services;JDBC;Java;Quality assurance;webMe...   \n",
       "\n",
       "                     Dice_job_title  Cluster  \n",
       "220      .Net Application Developer      0.0  \n",
       "962                  .Net Developer      0.0  \n",
       "998                  .Net Developer      0.0  \n",
       "1121                 .Net Developer      0.0  \n",
       "1378                 .Net Developer      0.0  \n",
       "...                             ...      ...  \n",
       "2494446        webMethods Developer      NaN  \n",
       "2494448        webMethods Developer      NaN  \n",
       "2494449        webMethods Developer      NaN  \n",
       "2494680        webMethods Developer      NaN  \n",
       "2494880        webMethods Developer      NaN  \n",
       "\n",
       "[6199 rows x 3 columns]"
      ]
     },
     "execution_count": 24,
     "metadata": {},
     "output_type": "execute_result"
    }
   ],
   "source": [
    "df = data\n",
    "\n",
    "Optimal_k = 2\n",
    "\n",
    "WordVectorizer = TfidfVectorizer(stop_words='english')\n",
    "\n",
    "X = WordVectorizer.fit_transform(df['Dice_job_title'])\n",
    "\n",
    "model = KMeans(n_clusters=Optimal_k, init='k-means++', max_iter=200, n_init=10)\n",
    "\n",
    "model.fit(X)\n",
    "\n",
    "df['Cluster'] = pd.DataFrame(model.labels_)\n",
    "\n",
    "df"
   ]
  },
  {
   "cell_type": "code",
   "execution_count": 25,
   "id": "fbec0140",
   "metadata": {},
   "outputs": [
    {
     "data": {
      "text/plain": [
       "0.0    14\n",
       "1.0     3\n",
       "Name: Cluster, dtype: int64"
      ]
     },
     "execution_count": 25,
     "metadata": {},
     "output_type": "execute_result"
    }
   ],
   "source": [
    "df.Cluster.value_counts()"
   ]
  },
  {
   "cell_type": "markdown",
   "id": "3921e89c",
   "metadata": {},
   "source": [
    "https://stackoverflow.com/questions/62019629/find-most-important-words-for-k-means-clustering-using-sklearn-pandas"
   ]
  },
  {
   "cell_type": "code",
   "execution_count": null,
   "id": "bc53afeb",
   "metadata": {},
   "outputs": [],
   "source": []
  }
 ],
 "metadata": {
  "kernelspec": {
   "display_name": "Python 3",
   "language": "python",
   "name": "python3"
  },
  "language_info": {
   "codemirror_mode": {
    "name": "ipython",
    "version": 3
   },
   "file_extension": ".py",
   "mimetype": "text/x-python",
   "name": "python",
   "nbconvert_exporter": "python",
   "pygments_lexer": "ipython3",
   "version": "3.8.10"
  }
 },
 "nbformat": 4,
 "nbformat_minor": 5
}
